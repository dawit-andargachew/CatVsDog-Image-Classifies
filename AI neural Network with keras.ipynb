{
 "cells": [
  {
   "cell_type": "markdown",
   "metadata": {},
   "source": [
    "### Step-1 Import Modules and  prepare the training data se"
   ]
  },
  {
   "cell_type": "code",
   "execution_count": null,
   "metadata": {},
   "outputs": [],
   "source": [
    "import numpy as np\n",
    "# import tensorflow as tf\n",
    "from random import randint\n",
    "from sklearn.utils import shuffle\n",
    "from sklearn.preprocessing import MinMaxScaler\n",
    "\n",
    "\n",
    "# prepare the data set to be trained\n",
    "train_labels = []\n",
    "train_samples = []\n",
    "\n",
    "for i in range(50):\n",
    "    #5%  of young experieance side effect\n",
    "    random_younger = randint(13,64)\n",
    "    train_samples.append(random_younger)\n",
    "    train_labels.append(1)\n",
    "\n",
    "    # 5% of older do not experiance side effect\n",
    "    random_older = randint(64,100)\n",
    "    train_samples.append(random_older)\n",
    "    train_labels.append(0)\n",
    "\n",
    "for i in range(1000):\n",
    "    #5%  of young do not experieance side effect\n",
    "    random_younger = randint(13,64)\n",
    "    train_samples.append(random_younger)\n",
    "    train_labels.append(0)\n",
    "\n",
    "    # 95% of older experiance side effect\n",
    "    random_older = randint(64,100)\n",
    "    train_samples.append(random_older)\n",
    "    train_labels.append(1)\n",
    "\n",
    "# convert it to numpy array\n",
    "train_labels = np.array(train_labels)\n",
    "train_samples = np.array(train_samples)\n",
    "\n",
    "#shuffle or randomize their order \n",
    "train_labels, train_samples = shuffle(train_labels,train_samples)\n",
    "\n",
    "# scaling range, the default range is 0,1 => MinMaxScaler(feature_range=(0,1)) = MinMaxScaler()\n",
    "scaler = MinMaxScaler(feature_range=(0,1))\n",
    "\n",
    "\n",
    "scaled_train_samples = scaler.fit_transform(train_samples.reshape(-1,1))"
   ]
  },
  {
   "cell_type": "markdown",
   "metadata": {},
   "source": [
    "### Step-2 Create Artificial Neural Network"
   ]
  },
  {
   "cell_type": "code",
   "execution_count": null,
   "metadata": {},
   "outputs": [],
   "source": [
    "import tensorflow as tf\n",
    "import keras as kr\n",
    "from keras.models import Sequential\n",
    "from keras.layers import Activation, Dense\n",
    "from keras.optimizers import Adam\n",
    "from keras.metrics import categorical_crossentropy\n",
    "\n",
    "# Available gpu devices\n",
    "# physica_device = tf.config.experimental.list_physical_devices('GPU')\n",
    "# print(\"Nums GPU Availabel : \", len(physica_device))\n",
    "\n",
    "model = Sequential([\n",
    "    Dense(units=16, input_shape=(1,), activation='relu'),\n",
    "    Dense(units=32, activation='relu'),\n",
    "    Dense(units=2, activation='softmax')\n",
    "\n",
    "])\n",
    "\n",
    "model.summary()\n"
   ]
  },
  {
   "cell_type": "markdown",
   "metadata": {},
   "source": [
    "### Step-3 Train the Artificial Neural Network with the dataset we have created above"
   ]
  },
  {
   "cell_type": "code",
   "execution_count": null,
   "metadata": {},
   "outputs": [],
   "source": [
    "#prepate the model for traininig by compiling\n",
    "model.compile(optimizer=Adam(learning_rate=0.001),loss='sparse_categorical_crossentropy',metrics=['accuracy'])\n",
    "\n",
    "#training occurs whenever we call fit function\n",
    "model.fit(x=scaled_train_samples, y= train_labels,batch_size=10,epochs=30,shuffle=True,verbose=1)"
   ]
  },
  {
   "cell_type": "markdown",
   "metadata": {},
   "source": [
    "<div> \n",
    "\n",
    "### Step-4 We can actually get an understanding of how welll our model is generalizeing via validation \n",
    "##### VAlidation set can be either \n",
    "###### 1, completely separate data or \n",
    "###### 2, take subset of trainig data before trainig begans and separte it in a separte set so that the trainig model can't access it\n",
    "</div>"
   ]
  },
  {
   "cell_type": "code",
   "execution_count": null,
   "metadata": {},
   "outputs": [],
   "source": [
    "#prepate the model for traininig by compiling\n",
    "model.compile(optimizer=Adam(learning_rate=0.001),loss='sparse_categorical_crossentropy',metrics=['accuracy'])\n",
    "\n",
    "#training occurs whenever we call fit function\n",
    "model.fit(x=scaled_train_samples, y= train_labels,validation_split=0.1, batch_size=10,epochs=30,shuffle=False,verbose=1)"
   ]
  },
  {
   "cell_type": "markdown",
   "metadata": {},
   "source": [
    "### "
   ]
  },
  {
   "cell_type": "markdown",
   "metadata": {},
   "source": [
    "### Step-5 Creating a validation set for testing the performance of our model"
   ]
  },
  {
   "cell_type": "code",
   "execution_count": null,
   "metadata": {},
   "outputs": [],
   "source": [
    "# creating testing data set\n",
    "testing_samples = []\n",
    "testing_labels = []\n",
    "\n",
    "for i in range(50):\n",
    "    #5%  of young experieance side effect\n",
    "    random_younger = randint(13,64)\n",
    "    testing_samples.append(random_younger)\n",
    "    testing_labels.append(1)\n",
    "\n",
    "    # 5% of older do not experiance side effect\n",
    "    random_older = randint(64,100)\n",
    "    testing_samples.append(random_older)\n",
    "    testing_labels.append(0)\n",
    "\n",
    "for i in range(1000):\n",
    "    #5%  of young do not experieance side effect\n",
    "    random_younger = randint(13,64)\n",
    "    testing_samples.append(random_younger)\n",
    "    testing_labels.append(0)\n",
    "\n",
    "    # 95% of older experiance side effect\n",
    "    random_older = randint(64,100)\n",
    "    testing_samples.append(random_older)\n",
    "    testing_labels.append(1)\n",
    "\n",
    "# convert it to numpy array\n",
    "testing_labels = np.array(testing_labels)\n",
    "testing_samples = np.array(testing_samples)\n",
    "\n",
    "#shuffle or randomize their order \n",
    "testing_labels, testing_samples = shuffle(testing_labels,testing_samples)\n",
    "scaled_testing_samples = scaler.fit_transform(testing_labels.reshape(-1,1))"
   ]
  },
  {
   "cell_type": "markdown",
   "metadata": {},
   "source": [
    "## Step-6 Use the test data "
   ]
  },
  {
   "cell_type": "code",
   "execution_count": null,
   "metadata": {},
   "outputs": [],
   "source": [
    "predictions = model.predict(x=scaled_testing_samples, batch_size=10, verbose=0)\n",
    "\n",
    "rounded_predictions = np.argmax(predictions, axis=-1)\n",
    "\n",
    "# print(predictions)\n",
    "# print(rounded_predictions)\n"
   ]
  },
  {
   "cell_type": "markdown",
   "metadata": {},
   "source": [
    "## Step-7 Confusion Matrix \n",
    "#### We need to use a Confusion Matrix to visualize the prediction result of neural net"
   ]
  },
  {
   "cell_type": "code",
   "execution_count": null,
   "metadata": {},
   "outputs": [],
   "source": [
    "%matplotlib inline\n",
    "from sklearn.metrics import confusion_matrix\n",
    "import itertools\n",
    "import matplotlib.pyplot as plt\n",
    "\n",
    "\n",
    "\n",
    "def plot_confusion_matrix(cm, classes,\n",
    "                          normalize=False,\n",
    "                          title='confusion_matrix',\n",
    "                          cmap=plt.cm.Blues):\n",
    "    plt.imshow(cm, interpolation='nearest', cmap=cmap)\n",
    "    plt.title(title)\n",
    "    plt.colorbar()\n",
    "    tick_marks = np.arange(len(classes))\n",
    "    plt.xticks(tick_marks, classes, rotation=45)\n",
    "    plt.yticks(tick_marks, classes)\n",
    "\n",
    "    if normalize:\n",
    "        cm = cm.astype('float') / cm.sum(axis=1)[:, np.newaxis]\n",
    "        print('Normalized Confusion matrix ')\n",
    "    else:\n",
    "        print('Confusion Matrix, without Normalization')\n",
    "\n",
    "    print(cm)\n",
    "    thresh = cm.max() / 2\n",
    "    for i, j in itertools.product(range(cm.shape[0]), range(cm.shape[1])):\n",
    "        plt.text(j, i, cm[i, j],\n",
    "                 horizontalalignment='center',\n",
    "                 color='white' if cm[i, j] > thresh else \"black\")\n",
    "    plt.tight_layout()\n",
    "    plt.ylabel('True label')\n",
    "    plt.xlabel('Predicted label')\n",
    "\n",
    "\n",
    "cm = confusion_matrix(y_true=testing_labels, y_pred=rounded_predictions)\n",
    "cm_plot_labels = ['no_side_effects', 'had_side_effects']\n",
    "plot_confusion_matrix(cm=cm,classes=cm_plot_labels,title='confusion Matrix')\n",
    "plt.show()"
   ]
  },
  {
   "cell_type": "markdown",
   "metadata": {},
   "source": [
    "## Step-8 Save and Load a Model with Tensorflow Keras API"
   ]
  },
  {
   "cell_type": "code",
   "execution_count": null,
   "metadata": {},
   "outputs": [],
   "source": [
    "model.summary()"
   ]
  }
 ],
 "metadata": {
  "kernelspec": {
   "display_name": "Python 3.10.8 64-bit",
   "language": "python",
   "name": "python3"
  },
  "language_info": {
   "codemirror_mode": {
    "name": "ipython",
    "version": 3
   },
   "file_extension": ".py",
   "mimetype": "text/x-python",
   "name": "python",
   "nbconvert_exporter": "python",
   "pygments_lexer": "ipython3",
   "version": "3.10.8"
  },
  "orig_nbformat": 4,
  "vscode": {
   "interpreter": {
    "hash": "51ec22ce4e2ba3085522701c56b702e99d16431f9f43804369695a5f3c054f5c"
   }
  }
 },
 "nbformat": 4,
 "nbformat_minor": 2
}
