{
 "cells": [
  {
   "cell_type": "code",
   "execution_count": null,
   "metadata": {},
   "outputs": [],
   "source": [
    "import numpy as np\n",
    "import tensorflow as tf\n",
    "import keras as keras\n",
    "from keras.models import Sequential\n",
    "from keras.layers import Activation, Dense, Flatten, BatchNormalization, Conv2D, MaxPool2D\n",
    "from keras.optimizers import Adam\n",
    "from keras.metrics import categorical_crossentropy\n",
    "from keras.preprocessing.image import ImageDataGenerator\n",
    "from sklearn.metrics import confusion_matrix\n",
    "import itertools\n",
    "import os\n",
    "import shutil\n",
    "import random\n",
    "import glob\n",
    "import matplotlib.pyplot as plt\n",
    "import warnings\n",
    "warnings.simplefilter(action='ignore', category=FutureWarning)\n",
    "%matplotlib inline\n",
    "\n",
    "\n",
    "# os.chdir(\"C:/Users/Dawit/Desktop/Keras/\")\n",
    "# os.chdir('C:/Users/Dawit/Desktop/Keras/dogvscat/')\n",
    "# os.mkdir(\"two\")\n",
    "# print(str(os.getcwd()))"
   ]
  },
  {
   "cell_type": "markdown",
   "metadata": {},
   "source": [
    "### Step-1 Date Prepation"
   ]
  },
  {
   "cell_type": "code",
   "execution_count": null,
   "metadata": {},
   "outputs": [],
   "source": [
    "#organize the data into train,valid and test\n",
    "os.chdir('C:/Users/Dawit/Desktop/Keras/dogvscat/')\n",
    "# if os.path.isdir('one') is True: # make it false to repopulate again \n",
    "#     os.makedirs('train/dog')\n",
    "#     os.makedirs('train/cat')\n",
    "#     os.makedirs('valid/dog')\n",
    "#     os.makedirs('valid/cat')\n",
    "#     os.makedirs('test/dog')\n",
    "#     os.makedirs('test/cat')\n",
    "\n",
    "# for c in random.sample(glob.glob('cat*'),500):\n",
    "#     shutil.move(c,'train/cat')\n",
    "# for c in random.sample(glob.glob('dog*'),500):\n",
    "#     shutil.move(c,'train/dog')\n",
    "\n",
    "# for c in random.sample(glob.glob('cat*'),100):\n",
    "#     shutil.move(c,'valid/cat')\n",
    "# for c in random.sample(glob.glob('dog*'),100):\n",
    "#     shutil.move(c,'valid/dog')\n",
    "\n",
    "# for c in random.sample(glob.glob('cat*'),100):\n",
    "#     shutil.move(c,'test/cat')\n",
    "# for c in random.sample(glob.glob('dog*'),100):\n",
    "#    shutil.move(c,'test/dog')\n",
    "\n",
    "## processing the data and put the image in keras generator\n",
    "os.chdir('C:/Users/Dawit/Desktop/Keras/') # change the dir to access the data\n",
    "train_path = 'dogvscat/train'\n",
    "valid_path = 'dogvscat/valid'\n",
    "test_path = 'dogvscat/test'\n",
    "\n",
    "train_batches = ImageDataGenerator(preprocessing_function=keras.applications.vgg16.preprocess_input)\\\n",
    "    .flow_from_directory(directory=train_path, target_size=(224,224),classes=['cat','dog'],batch_size=10)\n",
    "valid_batches = ImageDataGenerator(preprocessing_function=keras.applications.vgg16.preprocess_input)\\\n",
    "    .flow_from_directory(directory=valid_path, target_size=(224,224),classes=['cat','dog'],batch_size=10)\n",
    "test_batches = ImageDataGenerator(preprocessing_function=keras.applications.vgg16.preprocess_input)\\\n",
    "    .flow_from_directory(directory=test_path, target_size=(224,224),classes=['cat','dog'],batch_size=10,shuffle=False)\n",
    "\n",
    "\n",
    "assert train_batches.n == 1000\n",
    "assert test_batches.n == 200\n",
    "assert valid_batches.n == 200\n",
    "assert train_batches.num_classes == test_batches.num_classes == valid_batches.num_classes == 2\n",
    "# print(train_batches)"
   ]
  },
  {
   "cell_type": "code",
   "execution_count": null,
   "metadata": {},
   "outputs": [],
   "source": [
    "# grab single batch of images in the corresponding label\n",
    "# since the batch size is 10, it will contain 10 images with their corresponding labels\n",
    "imgs, labels = next(train_batches)\n",
    "\n",
    "# plot the images we obained above\n",
    "def plotImages(images_arr):\n",
    "    fig, axes = plt.subplots(1, 10, figsize=(20,20))\n",
    "    axes = axes.flatten()\n",
    "    for img, ax in zip(images_arr, axes):\n",
    "        ax.imshow(img)\n",
    "        ax.axis('off')\n",
    "    plt.tight_layout()\n",
    "    plt.show()\n",
    "\n",
    "\n",
    "plotImages(imgs)\n",
    "print(labels)\n",
    "\n",
    "\n",
    "#--------------------------------------------------------------------------------------\n",
    "#--------------------------------------------------------------------------------------\n",
    "#--------------------------------------------------------------------------------------\n",
    "\n",
    "## The images are changed and a little bit distorted due to the function we call from VGG16 preprocessing\n",
    "## VGG16 is a pretrained image classification model \n",
    "\n",
    "#  ARCHITECTURE\n",
    "# The only pre-processing we do is substracting the mean RGB value computed on the \n",
    "# training set from each pixex.\n",
    "##### => => => -> -> -> => => =>  THAT IS WHAT THE COLOR DISTORTION IS ALL ABOUT\n",
    "\n",
    "\n",
    "#--------------------------------------------------------------------------------------\n",
    "#--------------------------------------------------------------------------------------\n",
    "#--------------------------------------------------------------------------------------\n",
    "#--------------------------------------------------------------------------------------"
   ]
  },
  {
   "cell_type": "markdown",
   "metadata": {},
   "source": [
    "### Step-2 Build CNN and trait it on keras"
   ]
  },
  {
   "cell_type": "code",
   "execution_count": null,
   "metadata": {},
   "outputs": [],
   "source": [
    "# built a model\n",
    "model = Sequential([\n",
    "    Conv2D(filters=32, kernel_size=(3, 3), activation='relu',padding='same', input_shape=(224, 224, 3)),\n",
    "    MaxPool2D(pool_size=(2, 2), strides=2),\n",
    "    Conv2D(filters=64, kernel_size=(3, 3), activation='relu', padding='same'),\n",
    "    MaxPool2D(pool_size=(2, 2), strides=2),\n",
    "    Flatten(),\n",
    "    Dense(units=2, activation='softmax'),\n",
    "])\n",
    "\n",
    "### show the summary of our model\n",
    "# model.summary()\n",
    "\n",
    "### prepare the model for training by compiling it\n",
    "model.compile(optimizer=Adam(learning_rate=0.0001),loss='categorical_crossentropy',metrics=['accuracy'])\n",
    "\n",
    "### train the model with model.fit()\n",
    "model.fit(x=train_batches,validation_data=valid_batches,epochs=10,verbose=2)\n"
   ]
  },
  {
   "cell_type": "markdown",
   "metadata": {},
   "source": [
    "# __Save and load the model__"
   ]
  },
  {
   "cell_type": "code",
   "execution_count": null,
   "metadata": {},
   "outputs": [],
   "source": [
    "import os\n",
    "os.chdir('C:/Users/Dawit/Desktop/Keras/')\n",
    "model.save('one.h5')\n",
    "# print(os.getcwd())"
   ]
  },
  {
   "cell_type": "markdown",
   "metadata": {},
   "source": [
    "# __Loading... Finished__"
   ]
  },
  {
   "cell_type": "markdown",
   "metadata": {},
   "source": [
    "## Step-3 Predict\n",
    "### hwo to use our CNN for inference to predict on image data\n"
   ]
  },
  {
   "cell_type": "code",
   "execution_count": null,
   "metadata": {},
   "outputs": [],
   "source": [
    "### get a batch of test data from test_batches\n",
    "test_imgs, test_labels = next(test_batches)\n",
    "plotImages(test_imgs)\n",
    "print(test_labels)\n",
    "\n",
    "### display the labels of test samples since we don't shuffle, it always\n",
    "### have the same result and helps to analyse the efficiency of our model in confusin matrix\n",
    "# test_batches.classes   \n",
    "\n",
    "#predict \n",
    "predictions = model.predict( x=test_batches, verbose=0)\n",
    "np.round(predictions)"
   ]
  },
  {
   "cell_type": "markdown",
   "metadata": {},
   "source": [
    "### Step-4 Lets use Confuse matrix to visualize the result of our model\n"
   ]
  },
  {
   "cell_type": "code",
   "execution_count": null,
   "metadata": {},
   "outputs": [],
   "source": [
    "cm = confusion_matrix(y_true=test_batches.classes,\n",
    "                      y_pred=np.argmax(predictions, axis=-1))\n",
    "\n",
    "# plot the result of confusion matrix\n",
    "def plot_confusion_matrix(cm, classes,\n",
    "                          normalize=False,\n",
    "                          title='confusion_matrix',\n",
    "                          cmap=plt.cm.Blues):\n",
    "    plt.imshow(cm, interpolation='nearest', cmap=cmap)\n",
    "    plt.title(title)\n",
    "    plt.colorbar()\n",
    "    tick_marks = np.arange(len(classes))\n",
    "    plt.xticks(tick_marks, classes, rotation=45)\n",
    "    plt.yticks(tick_marks, classes)\n",
    "\n",
    "    if normalize:\n",
    "        cm = cm.astype('float') / cm.sum(axis=1)[:, np.newaxis]\n",
    "        print('Normalized Confusion matrix ')\n",
    "    else:\n",
    "        print('Confusion Matrix, without Normalization')\n",
    "\n",
    "    print(cm)\n",
    "    thresh = cm.max() / 2\n",
    "    for i, j in itertools.product(range(cm.shape[0]), range(cm.shape[1])):\n",
    "        plt.text(j, i, cm[i, j],\n",
    "                 horizontalalignment='center',\n",
    "                 color='white' if cm[i, j] > thresh else \"black\")\n",
    "    plt.tight_layout()\n",
    "    plt.ylabel('True label')\n",
    "    plt.xlabel('Predicted label')\n",
    "\n",
    "\n",
    "test_batches.class_indices\n",
    "cm_plot_labels = ['cat','dog']\n",
    "plot_confusion_matrix(cm=cm, classes = cm_plot_labels, title='Confusion Matrix' )"
   ]
  },
  {
   "cell_type": "markdown",
   "metadata": {},
   "source": [
    "## ___Step-5 Built Fine-tunned VGG16 model___\n"
   ]
  },
  {
   "cell_type": "code",
   "execution_count": null,
   "metadata": {},
   "outputs": [],
   "source": [
    "#download VGG16, for the first time it need internet connection\n",
    "vgg16_model = keras.applications.vgg16.VGG16()"
   ]
  },
  {
   "cell_type": "code",
   "execution_count": null,
   "metadata": {},
   "outputs": [],
   "source": [
    "vgg16_model.summary()\n",
    "#---------------------------------------------------------------\n",
    "#---------------------------------------------------------------\n",
    "#---------------------------------------------------------------\n",
    "\n",
    "# as you see from the summary predition (Dense) => 1000 \n",
    "# since vgg16 was originally designed to classify 1000 different classes\n",
    "# Our objective is simply change this 1000, to predict only 2 classes\n",
    "# just cat and dog\n",
    "#\n",
    "#---------------------------------------------------------------\n",
    "#---------------------------------------------------------------\n",
    "#---------------------------------------------------------------\n",
    "#---------------------------------------------------------------"
   ]
  },
  {
   "cell_type": "markdown",
   "metadata": {},
   "source": [
    "# __VVG16 Sequential Model__\n",
    "\n",
    "### __VGG16 is a bit more complicated and sophesticated than sequenctial model.__\n",
    "###  __So we need to convert it to sequential model__"
   ]
  },
  {
   "cell_type": "code",
   "execution_count": null,
   "metadata": {},
   "outputs": [],
   "source": [
    "### the model is this\n",
    "### NOTE => in here layers[:-1], the last part of VGG16 model which is prediction is not included\n",
    "model = Sequential()\n",
    "for layer in vgg16_model.layers[:-1]:\n",
    "    model.add(layer)\n",
    "\n",
    "\n",
    "### model summary\n",
    "model.summary()\n"
   ]
  },
  {
   "cell_type": "code",
   "execution_count": null,
   "metadata": {},
   "outputs": [],
   "source": [
    "type(vgg16_model)"
   ]
  },
  {
   "cell_type": "markdown",
   "metadata": {},
   "source": [
    "#### Here, we are going to iterate all layers of our new sequential model. And setting each layers to be __non-trainable__\n",
    "#### By doing this, we can __freeze the trainable prameters__ or __wieghts and biases__ all the layers in the model so that they are not going to be retrained whenever we go through training process\n",
    "\n",
    "##### __You can check this by model.summary() and the last one tells non-trainable parametes numbers. If you printout VGG16 model is non-trainable prameters in 0, but know the only trainable prameters are out last output layer__"
   ]
  },
  {
   "cell_type": "code",
   "execution_count": null,
   "metadata": {},
   "outputs": [],
   "source": [
    "## make each layer of model to be non-trainable \n",
    "## OR FREEZE trainable parameters, weiths and biases\n",
    "for layer in model.layers:\n",
    "    layer.trainable= False"
   ]
  },
  {
   "cell_type": "markdown",
   "metadata": {},
   "source": [
    "### __adding our own output layer which has only 2 output classes__"
   ]
  },
  {
   "cell_type": "code",
   "execution_count": null,
   "metadata": {},
   "outputs": [],
   "source": [
    "model.add(Dense(units=2,activation='softmax'))\n",
    "# model.summary()"
   ]
  },
  {
   "cell_type": "markdown",
   "metadata": {},
   "source": [
    "#### __It summary is this__"
   ]
  },
  {
   "cell_type": "code",
   "execution_count": null,
   "metadata": {},
   "outputs": [],
   "source": [
    "model.summary()"
   ]
  },
  {
   "cell_type": "markdown",
   "metadata": {},
   "source": [
    "##### __Since we make all the privious layers non-trainable, the last output layer we added is the only trainable layer in our model. So we only need to train this last layer to classify two output classes__\n",
    "### ___how to train our fine-tunned VGG16 model in ours own dataset ?___\n",
    "### ___Lets see how it is done___"
   ]
  },
  {
   "cell_type": "code",
   "execution_count": null,
   "metadata": {},
   "outputs": [],
   "source": [
    "## compile it, to get it ready for training using Adam optimizer\n",
    "model.compile(optimizer=Adam(learning_rate=0.0001),loss='categorical_crossentropy',metrics=['accuracy'])\n",
    "\n",
    "## train the model with model.fit()\n",
    "model.fit(x=train_batches,validation_data=valid_batches,epochs=5,verbose=2)"
   ]
  },
  {
   "cell_type": "markdown",
   "metadata": {},
   "source": [
    "# __Save VGG16 fine-tunned model__"
   ]
  },
  {
   "cell_type": "code",
   "execution_count": null,
   "metadata": {},
   "outputs": [],
   "source": [
    "os.chdir('C:/Users/Dawit/Desktop/Keras/')\n",
    "model.save('fine-tune.h5')"
   ]
  },
  {
   "cell_type": "markdown",
   "metadata": {},
   "source": [
    "## __Predict__ \n",
    "#### ___Use ours Fine-tuneed VGG16 model for inference to predict on images in our test___"
   ]
  },
  {
   "cell_type": "code",
   "execution_count": null,
   "metadata": {},
   "outputs": [],
   "source": [
    "## use model.preditions\n",
    "predictions = model.predict(x=test_batches,verbose=0)"
   ]
  },
  {
   "cell_type": "code",
   "execution_count": null,
   "metadata": {},
   "outputs": [],
   "source": [
    "## since we didn't suffle the test set image data set, we want to access the classes here in unshuffled order so that we can pass it the corresponding values of unshuffled orders\n",
    "test_batches.classes"
   ]
  },
  {
   "cell_type": "code",
   "execution_count": 33,
   "metadata": {},
   "outputs": [
    {
     "data": {
      "text/plain": [
       "{'cat': 0, 'dog': 1}"
      ]
     },
     "execution_count": 33,
     "metadata": {},
     "output_type": "execute_result"
    }
   ],
   "source": [
    "\n",
    "cm = confusion_matrix(y_true=test_batches.classes,y_pred=np.argmax(predictions,axis=-1))\n",
    "test_batches.class_indices"
   ]
  },
  {
   "cell_type": "code",
   "execution_count": 35,
   "metadata": {},
   "outputs": [],
   "source": [
    "# plot the result of confusion matrix\n",
    "def plot_confusion_matrix(cm, classes,\n",
    "                          normalize=False,\n",
    "                          title='confusion_matrix',\n",
    "                          cmap=plt.cm.Blues):\n",
    "    plt.imshow(cm, interpolation='nearest', cmap=cmap)\n",
    "    plt.title(title)\n",
    "    plt.colorbar()\n",
    "    tick_marks = np.arange(len(classes))\n",
    "    plt.xticks(tick_marks, classes, rotation=45)\n",
    "    plt.yticks(tick_marks, classes)\n",
    "\n",
    "    if normalize:\n",
    "        cm = cm.astype('float') / cm.sum(axis=1)[:, np.newaxis]\n",
    "        print('Normalized Confusion matrix ')\n",
    "    else:\n",
    "        print('Confusion Matrix, without Normalization')\n",
    "\n",
    "    print(cm)\n",
    "    thresh = cm.max() / 2\n",
    "    for i, j in itertools.product(range(cm.shape[0]), range(cm.shape[1])):\n",
    "        plt.text(j, i, cm[i, j],\n",
    "                 horizontalalignment='center',\n",
    "                 color='white' if cm[i, j] > thresh else \"black\")\n",
    "    plt.tight_layout()\n",
    "    plt.ylabel('True label')\n",
    "    plt.xlabel('Predicted label')\n",
    "\n"
   ]
  },
  {
   "cell_type": "code",
   "execution_count": null,
   "metadata": {},
   "outputs": [],
   "source": []
  },
  {
   "cell_type": "code",
   "execution_count": 36,
   "metadata": {},
   "outputs": [
    {
     "name": "stdout",
     "output_type": "stream",
     "text": [
      "Confusion Matrix, without Normalization\n",
      "[[96  4]\n",
      " [ 3 97]]\n"
     ]
    },
    {
     "data": {
      "image/png": "[encoded data removed]",
      "text/plain": [
       "<Figure size 640x480 with 2 Axes>"
      ]
     },
     "metadata": {},
     "output_type": "display_data"
    }
   ],
   "source": [
    "cm_plot_labels=['cat','dot']\n",
    "\n",
    "plot_confusion_matrix(cm=cm,classes=cm_plot_labels,title='Fine-Tunned confusion Matrix')"
   ]
  },
  {
   "cell_type": "markdown",
   "metadata": {},
   "source": [
    "### "
   ]
  }
 ],
 "metadata": {
  "kernelspec": {
   "display_name": "Python 3.10.8 64-bit",
   "language": "python",
   "name": "python3"
  },
  "language_info": {
   "codemirror_mode": {
    "name": "ipython",
    "version": 3
   },
   "file_extension": ".py",
   "mimetype": "text/x-python",
   "name": "python",
   "nbconvert_exporter": "python",
   "pygments_lexer": "ipython3",
   "version": "3.10.8"
  },
  "orig_nbformat": 4,
  "vscode": {
   "interpreter": {
    "hash": "51ec22ce4e2ba3085522701c56b702e99d16431f9f43804369695a5f3c054f5c"
   }
  }
 },
 "nbformat": 4,
 "nbformat_minor": 2
}
